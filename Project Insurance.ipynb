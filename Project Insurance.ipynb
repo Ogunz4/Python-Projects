{
 "cells": [
  {
   "cell_type": "markdown",
   "metadata": {
    "tags": []
   },
   "source": [
    "## Project on Insurance Charges"
   ]
  },
  {
   "cell_type": "markdown",
   "metadata": {},
   "source": [
    "#In this project we examine Which Factors are significant in predicting Insurance **charges**.\n",
    "\n",
    "#The folowing are the attributes of the dataset:\n",
    "\n",
    "#**age:** age of primary beneficiary\n",
    "\n",
    "#**sex:** gender of primary beneficiary\n",
    "\n",
    "#**bmi:** body mass index of primary beneficiary\n",
    "\n",
    "#**children:** Number of children covered by health insurance / Number of dependents.\n",
    "\n",
    "#**smoker:** whther the person is smoker or non-smoker\n",
    "\n",
    "#**region:** The beneficiary's residental area in the USA.\n",
    "\n",
    "#**charges:** the price of health insurance"
   ]
  },
  {
   "cell_type": "markdown",
   "metadata": {},
   "source": [
    "#Import Required libraries, load the dataset to df dataframe, display first 5 rows."
   ]
  },
  {
   "cell_type": "markdown",
   "metadata": {},
   "source": [
    "import numpy as np\n",
    "import pandas as pd\n",
    "import matplotlib.pyplot as plt\n",
    "%matplotlib inline\n",
    "df = pd.read_csv('insurance.csv')\n",
    "df.head()"
   ]
  },
  {
   "cell_type": "markdown",
   "metadata": {},
   "source": [
    "#Show the shape of dataset\n",
    "#Check for missing values and if there is any missing values drop them.\n",
    "#Drop duplicate rows.\n",
    "#Show the statistical summary of numerical variables (describe)"
   ]
  },
  {
   "cell_type": "markdown",
   "metadata": {},
   "source": [
    "df.shape"
   ]
  },
  {
   "cell_type": "markdown",
   "metadata": {},
   "source": [
    "df.isnull().sum()"
   ]
  },
  {
   "cell_type": "markdown",
   "metadata": {},
   "source": [
    "df.drop_duplicates()"
   ]
  },
  {
   "cell_type": "markdown",
   "metadata": {},
   "source": [
    "df.describe()"
   ]
  },
  {
   "cell_type": "markdown",
   "metadata": {},
   "source": [
    "#Preliminary analysis\n",
    "#a. Create a correlation matrix of the variables in the df dataframe."
   ]
  },
  {
   "cell_type": "markdown",
   "metadata": {},
   "source": [
    "df.corr()"
   ]
  },
  {
   "cell_type": "markdown",
   "metadata": {},
   "source": [
    "#b. Do some Preliminary analysis that can help you with selecting the best independent variables for predicting dependent variable (suggestion: for example you can compare average charges for differnt smoker groups, sex, region, and etc.)"
   ]
  },
  {
   "cell_type": "markdown",
   "metadata": {},
   "source": [
    "df['charges'].groupby(df['smoker']).mean()"
   ]
  },
  {
   "cell_type": "markdown",
   "metadata": {},
   "source": [
    "df['charges'].groupby(df['sex']).mean()"
   ]
  },
  {
   "cell_type": "markdown",
   "metadata": {},
   "source": [
    "#b. Interpert your correlation matrix and preliminary analysis. For example: Based on the correlation matrix and preliminary analysis which features can be a good predictors for dependent variable (charges)?"
   ]
  },
  {
   "cell_type": "markdown",
   "metadata": {},
   "source": [
    "#Use get_dummies() method to encode the values of categorical columns. Display the first 5 rows of df dataframe."
   ]
  },
  {
   "cell_type": "markdown",
   "metadata": {},
   "source": [
    "df = pd.get_dummies(df)\n",
    "df.head()"
   ]
  },
  {
   "cell_type": "markdown",
   "metadata": {},
   "source": [
    "#a. Specify the X and Y dataframes (X is independent variables. Y is dependent variable)"
   ]
  },
  {
   "cell_type": "markdown",
   "metadata": {},
   "source": [
    "X = df[['smoker_yes','age','region_southeast']].copy()\n",
    "Y = df['charges'].copy()"
   ]
  },
  {
   "cell_type": "markdown",
   "metadata": {},
   "source": [
    "#a. Split the data to train-test (30 percent of data should be test set)"
   ]
  },
  {
   "cell_type": "markdown",
   "metadata": {},
   "source": [
    "from sklearn.model_selection import train_test_split\n",
    "X_train, X_test, y_train, y_test = train_test_split(X, Y, test_size = 0.3, random_state = 2)"
   ]
  },
  {
   "cell_type": "markdown",
   "metadata": {},
   "source": [
    "#Run OLS Regression model on train set"
   ]
  },
  {
   "cell_type": "markdown",
   "metadata": {},
   "source": [
    "# Run regression using statsmodels\n",
    "import statsmodels.api as sm\n",
    "import math\n",
    "from sklearn.metrics import mean_squared_error\n",
    "\n",
    "X_train = sm.add_constant(X_train) # required if constant expected\n",
    "est = sm.OLS(y_train,X_train).fit() # fit model\n",
    "predictions = est.predict() # get predicted values\n",
    "print(est.summary()) # prints full regression results\n",
    "print(\"\\nAverage error: {:.2f}.\".format(math.sqrt(est.mse_resid)))"
   ]
  },
  {
   "cell_type": "markdown",
   "metadata": {},
   "source": [
    "b. Interpret the results (R-Squared, Adj. R-Squared, Prob (F-statistic), coefficients of independent variables, p-values of independent variables, Average Error)"
   ]
  },
  {
   "cell_type": "markdown",
   "metadata": {},
   "source": [
    "#a. Run Regression model on test set"
   ]
  },
  {
   "cell_type": "markdown",
   "metadata": {},
   "source": [
    "# Run regression using statsmodels\n",
    "import statsmodels.api as sm\n",
    "\n",
    "X_test = sm.add_constant(X_test) # required if constant expected\n",
    "est = sm.OLS(y_test,X_test).fit() # fit model\n",
    "predictions = est.predict() # get predicted values\n",
    "print(est.summary()) # prints full regression results\n",
    "print(\"\\nAverage error: {:.2f}.\".format(math.sqrt(est.mse_resid)))"
   ]
  },
  {
   "cell_type": "markdown",
   "metadata": {},
   "source": [
    "b.Interpret the results (R-Squared, Adj. R-Squared, Prob (F-statistic), coefficients of independent variables, p-values of independent variables, Average Error)"
   ]
  },
  {
   "cell_type": "markdown",
   "metadata": {},
   "source": []
  },
  {
   "cell_type": "markdown",
   "metadata": {},
   "source": [
    "c. Check whether your regression model on Test set has Multicollinearity problem"
   ]
  },
  {
   "cell_type": "markdown",
   "metadata": {},
   "source": [
    "from statsmodels.stats.outliers_influence import variance_inflation_factor\n",
    "\n",
    "variables = est.model.exog # get model features\n",
    "vif = pd.DataFrame() # create a dataframe\n",
    "vif[\"VIF Factor\"] = [variance_inflation_factor(variables, i) for i in range(variables.shape[1])]\n",
    "vif[\"features\"] = X_test.columns\n",
    "print('VIF: {}'.format(vif))"
   ]
  },
  {
   "cell_type": "markdown",
   "metadata": {},
   "source": []
  }
 ],
 "metadata": {
  "kernelspec": {
   "display_name": "Python 3 (ipykernel)",
   "language": "python",
   "name": "python3"
  },
  "language_info": {
   "codemirror_mode": {
    "name": "ipython",
    "version": 3
   },
   "file_extension": ".py",
   "mimetype": "text/x-python",
   "name": "python",
   "nbconvert_exporter": "python",
   "pygments_lexer": "ipython3",
   "version": "3.10.8"
  }
 },
 "nbformat": 4,
 "nbformat_minor": 4
}
